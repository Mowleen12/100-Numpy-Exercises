{
  "cells": [
    {
      "cell_type": "markdown",
      "id": "d7cfc029-53bc-4ecb-b3b9-85c3fb9d244a",
      "metadata": {
        "id": "d7cfc029-53bc-4ecb-b3b9-85c3fb9d244a"
      },
      "source": [
        "### Name: Mowleen Armstrong"
      ]
    },
    {
      "cell_type": "markdown",
      "id": "d46e26d4",
      "metadata": {
        "id": "d46e26d4"
      },
      "source": [
        "# 100 numpy exercises\n",
        "This is a collection of exercises that have been collected in the numpy mailing list, on stack overflow\n",
        "and in the numpy documentation. The goal of this collection is to offer a quick reference for both old\n",
        "and new users but also to provide a set of exercises for those who teach.\n",
        "\n",
        "\n",
        "If you find an error or think you've a better way to solve some of them, feel\n",
        "free to open an issue at <https://github.com/rougier/numpy-100>."
      ]
    },
    {
      "cell_type": "markdown",
      "id": "1ce7c53f",
      "metadata": {
        "id": "1ce7c53f"
      },
      "source": [
        "Run the `initialize.py` module, then for each question you can query the\n",
        "answer or an hint with `hint(n)` or `answer(n)` for `n` question number."
      ]
    },
    {
      "cell_type": "markdown",
      "id": "dcc6b1ac",
      "metadata": {
        "id": "dcc6b1ac"
      },
      "source": [
        "#### 1. Import the numpy package under the name `np` (★☆☆)"
      ]
    },
    {
      "cell_type": "code",
      "execution_count": null,
      "id": "6c52078e",
      "metadata": {
        "id": "6c52078e"
      },
      "outputs": [],
      "source": [
        "import numpy as np"
      ]
    },
    {
      "cell_type": "markdown",
      "id": "118ded29",
      "metadata": {
        "id": "118ded29"
      },
      "source": [
        "#### 2. Print the numpy version and the configuration (★☆☆)"
      ]
    },
    {
      "cell_type": "code",
      "execution_count": null,
      "id": "023a2c52",
      "metadata": {
        "id": "023a2c52",
        "outputId": "edb47721-5f42-4651-873e-65baf7d0aaae"
      },
      "outputs": [
        {
          "name": "stdout",
          "output_type": "stream",
          "text": [
            "1.26.4\n"
          ]
        }
      ],
      "source": [
        "print(np.__version__)"
      ]
    },
    {
      "cell_type": "markdown",
      "id": "172b913a",
      "metadata": {
        "id": "172b913a"
      },
      "source": [
        "#### 3. Create a null vector of size 10 (★☆☆)"
      ]
    },
    {
      "cell_type": "code",
      "execution_count": null,
      "id": "df54025a",
      "metadata": {
        "id": "df54025a",
        "outputId": "f9e82e14-bf30-4e1d-9a6d-659f1eac9a10"
      },
      "outputs": [
        {
          "name": "stdout",
          "output_type": "stream",
          "text": [
            "[0. 0. 0. 0. 0. 0. 0. 0. 0. 0.]\n"
          ]
        }
      ],
      "source": [
        "import numpy as np\n",
        "null_vector = np.zeros(10)\n",
        "print(null_vector)"
      ]
    },
    {
      "cell_type": "markdown",
      "id": "95ee9e07",
      "metadata": {
        "id": "95ee9e07"
      },
      "source": [
        "#### 4. How to find the memory size of any array (★☆☆)"
      ]
    },
    {
      "cell_type": "code",
      "execution_count": null,
      "id": "5c5b0950",
      "metadata": {
        "id": "5c5b0950",
        "outputId": "f1d747cd-7dce-4f06-ec64-9631c5530148"
      },
      "outputs": [
        {
          "name": "stdout",
          "output_type": "stream",
          "text": [
            "Memory size of the array: 40 bytes\n"
          ]
        }
      ],
      "source": [
        "import numpy as np\n",
        "arr = np.array([1, 2, 3, 4, 5])\n",
        "memory_size = arr.nbytes\n",
        "print(f\"Memory size of the array: {memory_size} bytes\")"
      ]
    },
    {
      "cell_type": "markdown",
      "id": "45fca154",
      "metadata": {
        "id": "45fca154"
      },
      "source": [
        "#### 5. How to get the documentation of the numpy add function from the command line? (★☆☆)"
      ]
    },
    {
      "cell_type": "code",
      "execution_count": null,
      "id": "fcb1248a",
      "metadata": {
        "id": "fcb1248a",
        "outputId": "2900cffe-a364-4b0d-ac89-c86b3f4f516d"
      },
      "outputs": [
        {
          "name": "stdout",
          "output_type": "stream",
          "text": [
            "Help on ufunc:\n",
            "\n",
            "add = <ufunc 'add'>\n",
            "    add(x1, x2, /, out=None, *, where=True, casting='same_kind', order='K', dtype=None, subok=True[, signature, extobj])\n",
            "\n",
            "    Add arguments element-wise.\n",
            "\n",
            "    Parameters\n",
            "    ----------\n",
            "    x1, x2 : array_like\n",
            "        The arrays to be added.\n",
            "        If ``x1.shape != x2.shape``, they must be broadcastable to a common\n",
            "        shape (which becomes the shape of the output).\n",
            "    out : ndarray, None, or tuple of ndarray and None, optional\n",
            "        A location into which the result is stored. If provided, it must have\n",
            "        a shape that the inputs broadcast to. If not provided or None,\n",
            "        a freshly-allocated array is returned. A tuple (possible only as a\n",
            "        keyword argument) must have length equal to the number of outputs.\n",
            "    where : array_like, optional\n",
            "        This condition is broadcast over the input. At locations where the\n",
            "        condition is True, the `out` array will be set to the ufunc result.\n",
            "        Elsewhere, the `out` array will retain its original value.\n",
            "        Note that if an uninitialized `out` array is created via the default\n",
            "        ``out=None``, locations within it where the condition is False will\n",
            "        remain uninitialized.\n",
            "    **kwargs\n",
            "        For other keyword-only arguments, see the\n",
            "        :ref:`ufunc docs <ufuncs.kwargs>`.\n",
            "\n",
            "    Returns\n",
            "    -------\n",
            "    add : ndarray or scalar\n",
            "        The sum of `x1` and `x2`, element-wise.\n",
            "        This is a scalar if both `x1` and `x2` are scalars.\n",
            "\n",
            "    Notes\n",
            "    -----\n",
            "    Equivalent to `x1` + `x2` in terms of array broadcasting.\n",
            "\n",
            "    Examples\n",
            "    --------\n",
            "    >>> np.add(1.0, 4.0)\n",
            "    5.0\n",
            "    >>> x1 = np.arange(9.0).reshape((3, 3))\n",
            "    >>> x2 = np.arange(3.0)\n",
            "    >>> np.add(x1, x2)\n",
            "    array([[  0.,   2.,   4.],\n",
            "           [  3.,   5.,   7.],\n",
            "           [  6.,   8.,  10.]])\n",
            "\n",
            "    The ``+`` operator can be used as a shorthand for ``np.add`` on ndarrays.\n",
            "\n",
            "    >>> x1 = np.arange(9.0).reshape((3, 3))\n",
            "    >>> x2 = np.arange(3.0)\n",
            "    >>> x1 + x2\n",
            "    array([[ 0.,  2.,  4.],\n",
            "           [ 3.,  5.,  7.],\n",
            "           [ 6.,  8., 10.]])\n",
            "\n"
          ]
        }
      ],
      "source": [
        "import numpy as np\n",
        "help(np.add)"
      ]
    },
    {
      "cell_type": "markdown",
      "id": "674e8019",
      "metadata": {
        "id": "674e8019"
      },
      "source": [
        "#### 6. Create a null vector of size 10 but the fifth value which is 1 (★☆☆)"
      ]
    },
    {
      "cell_type": "code",
      "execution_count": null,
      "id": "452df2a7",
      "metadata": {
        "id": "452df2a7",
        "outputId": "3fbebbd6-49ba-4d96-f33e-713e02bd6444"
      },
      "outputs": [
        {
          "name": "stdout",
          "output_type": "stream",
          "text": [
            "[0. 0. 0. 0. 1. 0. 0. 0. 0. 0.]\n"
          ]
        }
      ],
      "source": [
        "import numpy as np\n",
        "arr = np.zeros(10)\n",
        "arr[4] = 1\n",
        "print(arr)"
      ]
    },
    {
      "cell_type": "markdown",
      "id": "7685e337",
      "metadata": {
        "id": "7685e337"
      },
      "source": [
        "#### 7. Create a vector with values ranging from 10 to 49 (★☆☆)"
      ]
    },
    {
      "cell_type": "code",
      "execution_count": null,
      "id": "10847d11",
      "metadata": {
        "id": "10847d11",
        "outputId": "9cfa166e-f502-4bfa-8d9b-188c195e3b58"
      },
      "outputs": [
        {
          "name": "stdout",
          "output_type": "stream",
          "text": [
            "[10 11 12 13 14 15 16 17 18 19 20 21 22 23 24 25 26 27 28 29 30 31 32 33\n",
            " 34 35 36 37 38 39 40 41 42 43 44 45 46 47 48 49]\n"
          ]
        }
      ],
      "source": [
        "import numpy as np\n",
        "arr = np.arange(10, 50)\n",
        "print(arr)"
      ]
    },
    {
      "cell_type": "markdown",
      "id": "54c913ba",
      "metadata": {
        "id": "54c913ba"
      },
      "source": [
        "#### 8. Reverse a vector (first element becomes last) (★☆☆)"
      ]
    },
    {
      "cell_type": "code",
      "execution_count": null,
      "id": "34722e83",
      "metadata": {
        "id": "34722e83",
        "outputId": "7475262c-3cfc-4e36-d19b-a5e2848728d0"
      },
      "outputs": [
        {
          "name": "stdout",
          "output_type": "stream",
          "text": [
            "[49 48 47 46 45 44 43 42 41 40 39 38 37 36 35 34 33 32 31 30 29 28 27 26\n",
            " 25 24 23 22 21 20 19 18 17 16 15 14 13 12 11 10]\n"
          ]
        }
      ],
      "source": [
        "import numpy as np\n",
        "arr = np.arange(10, 50)\n",
        "reversed_arr = arr[::-1]\n",
        "print(reversed_arr)"
      ]
    },
    {
      "cell_type": "markdown",
      "id": "8e72fd08",
      "metadata": {
        "id": "8e72fd08"
      },
      "source": [
        "#### 9. Create a 3x3 matrix with values ranging from 0 to 8 (★☆☆)"
      ]
    },
    {
      "cell_type": "code",
      "execution_count": null,
      "id": "e18eef56",
      "metadata": {
        "id": "e18eef56",
        "outputId": "b89bf5ef-e9ca-44da-d2bb-263d69e54cbb"
      },
      "outputs": [
        {
          "name": "stdout",
          "output_type": "stream",
          "text": [
            "[[0 1 2]\n",
            " [3 4 5]\n",
            " [6 7 8]]\n"
          ]
        }
      ],
      "source": [
        "import numpy as np\n",
        "matrix = np.arange(9).reshape(3, 3)\n",
        "print(matrix)"
      ]
    },
    {
      "cell_type": "markdown",
      "id": "088424fc",
      "metadata": {
        "id": "088424fc"
      },
      "source": [
        "#### 10. Find indices of non-zero elements from [1,2,0,0,4,0] (★☆☆)"
      ]
    },
    {
      "cell_type": "code",
      "execution_count": null,
      "id": "9a402d06",
      "metadata": {
        "id": "9a402d06",
        "outputId": "d0bc03d3-f09f-4c7a-e828-16ff362b7500"
      },
      "outputs": [
        {
          "name": "stdout",
          "output_type": "stream",
          "text": [
            "(array([0, 1, 4]),)\n"
          ]
        }
      ],
      "source": [
        "import numpy as np\n",
        "arr = np.array([1, 2, 0, 0, 4, 0])\n",
        "non_zero_indices = np.nonzero(arr)\n",
        "print(non_zero_indices)"
      ]
    },
    {
      "cell_type": "markdown",
      "id": "3f347de9",
      "metadata": {
        "id": "3f347de9"
      },
      "source": [
        "#### 11. Create a 3x3 identity matrix (★☆☆)"
      ]
    },
    {
      "cell_type": "code",
      "execution_count": null,
      "id": "e38459c2",
      "metadata": {
        "id": "e38459c2",
        "outputId": "8f852583-78ac-4559-9e28-3b3706dd6ff2"
      },
      "outputs": [
        {
          "name": "stdout",
          "output_type": "stream",
          "text": [
            "[[1. 0. 0.]\n",
            " [0. 1. 0.]\n",
            " [0. 0. 1.]]\n"
          ]
        }
      ],
      "source": [
        "import numpy as np\n",
        "identity_matrix = np.eye(3)\n",
        "print(identity_matrix)"
      ]
    },
    {
      "cell_type": "markdown",
      "id": "24e98f25",
      "metadata": {
        "id": "24e98f25"
      },
      "source": [
        "#### 12. Create a 3x3x3 array with random values (★☆☆)"
      ]
    },
    {
      "cell_type": "code",
      "execution_count": null,
      "id": "94752bb3",
      "metadata": {
        "id": "94752bb3",
        "outputId": "f5b40a6a-415d-45c3-dd9e-d19155eaca0e"
      },
      "outputs": [
        {
          "name": "stdout",
          "output_type": "stream",
          "text": [
            "[[[0.61593368 0.57766277 0.06377085]\n",
            "  [0.04993834 0.51815094 0.16917044]\n",
            "  [0.06761084 0.90141286 0.17671178]]\n",
            "\n",
            " [[0.32781833 0.18370658 0.77427212]\n",
            "  [0.7834338  0.71026211 0.97487765]\n",
            "  [0.11826099 0.94564439 0.71548711]]\n",
            "\n",
            " [[0.39606865 0.00545978 0.16930175]\n",
            "  [0.29645133 0.31640767 0.84872098]\n",
            "  [0.14024644 0.57580489 0.92419745]]]\n"
          ]
        }
      ],
      "source": [
        "import numpy as np\n",
        "random_array = np.random.random((3, 3, 3))\n",
        "print(random_array)"
      ]
    },
    {
      "cell_type": "markdown",
      "id": "7cbca2cc",
      "metadata": {
        "id": "7cbca2cc"
      },
      "source": [
        "#### 13. Create a 10x10 array with random values and find the minimum and maximum values (★☆☆)"
      ]
    },
    {
      "cell_type": "code",
      "execution_count": null,
      "id": "c0643b1f",
      "metadata": {
        "id": "c0643b1f",
        "outputId": "94cf1a1a-d109-4a31-d296-119e16cdcf30"
      },
      "outputs": [
        {
          "name": "stdout",
          "output_type": "stream",
          "text": [
            "Minimum value: 0.0006178202951684364\n",
            "Maximum value: 0.9902769941865649\n"
          ]
        }
      ],
      "source": [
        "import numpy as np\n",
        "random_10x10 = np.random.random((10, 10))\n",
        "min_value = np.min(random_10x10)\n",
        "max_value = np.max(random_10x10)\n",
        "print(f\"Minimum value: {min_value}\")\n",
        "print(f\"Maximum value: {max_value}\")"
      ]
    },
    {
      "cell_type": "markdown",
      "id": "6cab4cbb",
      "metadata": {
        "id": "6cab4cbb"
      },
      "source": [
        "#### 14. Create a random vector of size 30 and find the mean value (★☆☆)"
      ]
    },
    {
      "cell_type": "code",
      "execution_count": null,
      "id": "e922a524",
      "metadata": {
        "id": "e922a524",
        "outputId": "bbec9a6a-c856-499f-88f4-f5059e3a40c9"
      },
      "outputs": [
        {
          "name": "stdout",
          "output_type": "stream",
          "text": [
            "Mean value: 0.46915066779206427\n"
          ]
        }
      ],
      "source": [
        "import numpy as np\n",
        "random_vector = np.random.random(30)\n",
        "mean_value = np.mean(random_vector)\n",
        "print(f\"Mean value: {mean_value}\")"
      ]
    },
    {
      "cell_type": "markdown",
      "id": "72053be8",
      "metadata": {
        "id": "72053be8"
      },
      "source": [
        "#### 15. Create a 2d array with 1 on the border and 0 inside (★☆☆)"
      ]
    },
    {
      "cell_type": "code",
      "execution_count": null,
      "id": "6bc84dfe",
      "metadata": {
        "id": "6bc84dfe",
        "outputId": "5a8bbe0b-fb70-4749-81a0-d460f6ddaa2c"
      },
      "outputs": [
        {
          "name": "stdout",
          "output_type": "stream",
          "text": [
            "[[1. 1. 1. 1. 1.]\n",
            " [1. 0. 0. 0. 1.]\n",
            " [1. 0. 0. 0. 1.]\n",
            " [1. 0. 0. 0. 1.]\n",
            " [1. 1. 1. 1. 1.]]\n"
          ]
        }
      ],
      "source": [
        "import numpy as np\n",
        "array = np.ones((5, 5))\n",
        "array[1:-1, 1:-1] = 0\n",
        "print(array)"
      ]
    },
    {
      "cell_type": "markdown",
      "id": "86b0206b",
      "metadata": {
        "id": "86b0206b"
      },
      "source": [
        "#### 16. How to add a border (filled with 0's) around an existing array? (★☆☆)"
      ]
    },
    {
      "cell_type": "code",
      "execution_count": null,
      "id": "41e66e3e",
      "metadata": {
        "id": "41e66e3e",
        "outputId": "08ab8adf-4530-4b4d-bf81-a8c05c2de9cd"
      },
      "outputs": [
        {
          "name": "stdout",
          "output_type": "stream",
          "text": [
            "[[0 0 0 0 0]\n",
            " [0 1 2 3 0]\n",
            " [0 4 5 6 0]\n",
            " [0 7 8 9 0]\n",
            " [0 0 0 0 0]]\n"
          ]
        }
      ],
      "source": [
        "import numpy as np\n",
        "array = np.array([[1, 2, 3], [4, 5, 6], [7, 8, 9]])\n",
        "array_with_border = np.pad(array, pad_width=1, mode='constant', constant_values=0)\n",
        "print(array_with_border)"
      ]
    },
    {
      "cell_type": "markdown",
      "id": "98a45574",
      "metadata": {
        "id": "98a45574"
      },
      "source": [
        "#### 17. What is the result of the following expression? (★☆☆)\n",
        "```python\n",
        "0 * np.nan\n",
        "np.nan == np.nan\n",
        "np.inf > np.nan\n",
        "np.nan - np.nan\n",
        "np.nan in set([np.nan])\n",
        "0.3 == 3 * 0.1\n",
        "```"
      ]
    },
    {
      "cell_type": "code",
      "execution_count": null,
      "id": "7eb533d5",
      "metadata": {
        "id": "7eb533d5",
        "outputId": "f028b8b1-1368-4f1c-f36c-df998f0d8354"
      },
      "outputs": [
        {
          "name": "stdout",
          "output_type": "stream",
          "text": [
            "0 * np.nan: nan\n",
            "np.nan == np.nan: False\n",
            "np.inf > np.nan: False\n",
            "np.nan - np.nan: nan\n",
            "np.nan in set([np.nan]): True\n",
            "0.3 == 3 * 0.1: False\n"
          ]
        }
      ],
      "source": [
        "import numpy as np\n",
        "print(\"0 * np.nan:\", 0 * np.nan)\n",
        "print(\"np.nan == np.nan:\", np.nan == np.nan)\n",
        "print(\"np.inf > np.nan:\", np.inf > np.nan)\n",
        "print(\"np.nan - np.nan:\", np.nan - np.nan)\n",
        "print(\"np.nan in set([np.nan]):\", np.nan in set([np.nan]))\n",
        "print(\"0.3 == 3 * 0.1:\", 0.3 == 3 * 0.1)"
      ]
    },
    {
      "cell_type": "markdown",
      "id": "1486619a",
      "metadata": {
        "id": "1486619a"
      },
      "source": [
        "#### 18. Create a 5x5 matrix with values 1,2,3,4 just below the diagonal (★☆☆)"
      ]
    },
    {
      "cell_type": "code",
      "execution_count": null,
      "id": "2b9fb59c",
      "metadata": {
        "id": "2b9fb59c",
        "outputId": "b4be57c2-8ddf-4ea1-e437-2967c43f98bf"
      },
      "outputs": [
        {
          "name": "stdout",
          "output_type": "stream",
          "text": [
            "[[0 0 0 0 0]\n",
            " [1 0 0 0 0]\n",
            " [0 2 0 0 0]\n",
            " [0 0 3 0 0]\n",
            " [0 0 0 4 0]]\n"
          ]
        }
      ],
      "source": [
        "import numpy as np\n",
        "matrix = np.diag([1, 2, 3, 4], k=-1)\n",
        "print(matrix)"
      ]
    },
    {
      "cell_type": "markdown",
      "id": "319287fd",
      "metadata": {
        "id": "319287fd"
      },
      "source": [
        "#### 19. Create a 8x8 matrix and fill it with a checkerboard pattern (★☆☆)"
      ]
    },
    {
      "cell_type": "code",
      "execution_count": null,
      "id": "299f5e60",
      "metadata": {
        "id": "299f5e60",
        "outputId": "d32c002e-2696-472f-95ea-66f82d4c6abf"
      },
      "outputs": [
        {
          "name": "stdout",
          "output_type": "stream",
          "text": [
            "[[0 1 0 1 0 1 0 1]\n",
            " [1 0 1 0 1 0 1 0]\n",
            " [0 1 0 1 0 1 0 1]\n",
            " [1 0 1 0 1 0 1 0]\n",
            " [0 1 0 1 0 1 0 1]\n",
            " [1 0 1 0 1 0 1 0]\n",
            " [0 1 0 1 0 1 0 1]\n",
            " [1 0 1 0 1 0 1 0]]\n"
          ]
        }
      ],
      "source": [
        "import numpy as np\n",
        "checkerboard = np.zeros((8, 8), dtype=int)\n",
        "checkerboard[1::2, ::2] = 1\n",
        "checkerboard[::2, 1::2] = 1\n",
        "print(checkerboard)"
      ]
    },
    {
      "cell_type": "markdown",
      "id": "fb1686ed",
      "metadata": {
        "id": "fb1686ed"
      },
      "source": [
        "#### 20. Consider a (6,7,8) shape array, what is the index (x,y,z) of the 100th element? (★☆☆)"
      ]
    },
    {
      "cell_type": "code",
      "execution_count": null,
      "id": "22888cc4",
      "metadata": {
        "id": "22888cc4",
        "outputId": "c647540c-b7eb-4352-e468-116f46f15537"
      },
      "outputs": [
        {
          "name": "stdout",
          "output_type": "stream",
          "text": [
            "The index of the 100th element is: (1, 5, 4)\n"
          ]
        }
      ],
      "source": [
        "import numpy as np\n",
        "shape = (6, 7, 8)\n",
        "index = np.unravel_index(100, shape)\n",
        "print(f\"The index of the 100th element is: {index}\")"
      ]
    },
    {
      "cell_type": "markdown",
      "id": "137ea278",
      "metadata": {
        "id": "137ea278"
      },
      "source": [
        "#### 21. Create a checkerboard 8x8 matrix using the tile function (★☆☆)"
      ]
    },
    {
      "cell_type": "code",
      "execution_count": null,
      "id": "9cb81fe1",
      "metadata": {
        "id": "9cb81fe1",
        "outputId": "e619447d-29ce-44b0-ac8c-57d0c9fc62e4"
      },
      "outputs": [
        {
          "name": "stdout",
          "output_type": "stream",
          "text": [
            "[[0 1 0 1 0 1 0 1]\n",
            " [1 0 1 0 1 0 1 0]\n",
            " [0 1 0 1 0 1 0 1]\n",
            " [1 0 1 0 1 0 1 0]\n",
            " [0 1 0 1 0 1 0 1]\n",
            " [1 0 1 0 1 0 1 0]\n",
            " [0 1 0 1 0 1 0 1]\n",
            " [1 0 1 0 1 0 1 0]]\n"
          ]
        }
      ],
      "source": [
        "import numpy as np\n",
        "checkerboard = np.tile([[0, 1], [1, 0]], (4, 4))\n",
        "print(checkerboard)"
      ]
    },
    {
      "cell_type": "markdown",
      "id": "9319f5a1",
      "metadata": {
        "id": "9319f5a1"
      },
      "source": [
        "#### 22. Normalize a 5x5 random matrix (★☆☆)"
      ]
    },
    {
      "cell_type": "code",
      "execution_count": null,
      "id": "fcdc0459",
      "metadata": {
        "id": "fcdc0459",
        "outputId": "fb3bd26e-d250-4141-e021-1a01247b725d"
      },
      "outputs": [
        {
          "name": "stdout",
          "output_type": "stream",
          "text": [
            "[[0.85454323 0.04089093 0.79284369 0.         0.07646871]\n",
            " [0.79094008 0.79995506 0.21688464 0.92669214 0.38928147]\n",
            " [0.87791361 0.34867816 1.         0.18535934 0.2218292 ]\n",
            " [0.3669345  0.14165725 0.40135449 0.61322256 0.83827084]\n",
            " [0.31724247 0.5236723  0.7403216  0.33769133 0.02520125]]\n"
          ]
        }
      ],
      "source": [
        "import numpy as np\n",
        "random_matrix = np.random.random((5, 5))\n",
        "normalized_matrix = (random_matrix - np.min(random_matrix)) / (np.max(random_matrix) - np.min(random_matrix))\n",
        "print(normalized_matrix)"
      ]
    },
    {
      "cell_type": "markdown",
      "id": "f1902fef",
      "metadata": {
        "id": "f1902fef"
      },
      "source": [
        "#### 23. Create a custom dtype that describes a color as four unsigned bytes (RGBA) (★☆☆)"
      ]
    },
    {
      "cell_type": "code",
      "execution_count": null,
      "id": "7445cb2d",
      "metadata": {
        "id": "7445cb2d",
        "outputId": "ad4e7993-e1ed-4610-843c-a032bf76967c"
      },
      "outputs": [
        {
          "name": "stdout",
          "output_type": "stream",
          "text": [
            "[(255, 0, 0, 255)]\n"
          ]
        }
      ],
      "source": [
        "import numpy as np\n",
        "rgba_dtype = np.dtype([('r', np.uint8), ('g', np.uint8), ('b', np.uint8), ('a', np.uint8)])\n",
        "color = np.array([(255, 0, 0, 255)], dtype=rgba_dtype)\n",
        "print(color)"
      ]
    },
    {
      "cell_type": "markdown",
      "id": "3f34bd2a",
      "metadata": {
        "id": "3f34bd2a"
      },
      "source": [
        "#### 24. Multiply a 5x3 matrix by a 3x2 matrix (real matrix product) (★☆☆)"
      ]
    },
    {
      "cell_type": "code",
      "execution_count": null,
      "id": "ec8bd6da",
      "metadata": {
        "id": "ec8bd6da",
        "outputId": "22223a92-6d74-4081-b3de-c754a485c2c9"
      },
      "outputs": [
        {
          "name": "stdout",
          "output_type": "stream",
          "text": [
            "[[0.8527623  0.87763899]\n",
            " [0.36644135 0.61877732]\n",
            " [0.553946   0.60509613]\n",
            " [0.94096356 0.62896179]\n",
            " [0.83739969 0.46729853]]\n"
          ]
        }
      ],
      "source": [
        "import numpy as np\n",
        "matrix_5x3 = np.random.random((5, 3))\n",
        "matrix_3x2 = np.random.random((3, 2))\n",
        "result = np.dot(matrix_5x3, matrix_3x2)\n",
        "print(result)"
      ]
    },
    {
      "cell_type": "markdown",
      "id": "b1919ba3",
      "metadata": {
        "id": "b1919ba3"
      },
      "source": [
        "#### 25. Given a 1D array, negate all elements which are between 3 and 8, in place. (★☆☆)"
      ]
    },
    {
      "cell_type": "code",
      "execution_count": null,
      "id": "5b63b63b",
      "metadata": {
        "id": "5b63b63b"
      },
      "outputs": [],
      "source": [
        "import numpy as np\n",
        "\n",
        "# Create a 1D array\n",
        "arr = np.array([1, 2, 3, 4, 5, 6, 7, 8, 9])\n",
        "\n",
        "# Negate all elements between 3 and 8 (inclusive)\n",
        "arr[(arr > 3) & (arr < 8)] *= -1\n",
        "\n",
        "print(arr)"
      ]
    },
    {
      "cell_type": "markdown",
      "id": "fb1daa27",
      "metadata": {
        "id": "fb1daa27"
      },
      "source": [
        "#### 26. What is the output of the following script? (★☆☆)\n",
        "```python\n",
        "# Author: Jake VanderPlas\n",
        "\n",
        "print(sum(range(5),-1))\n",
        "from numpy import *\n",
        "print(sum(range(5),-1))\n",
        "```"
      ]
    },
    {
      "cell_type": "code",
      "execution_count": null,
      "id": "52a34d3d",
      "metadata": {
        "id": "52a34d3d",
        "outputId": "6a0d9062-ffac-42ba-afb5-5a2604ebc636"
      },
      "outputs": [
        {
          "name": "stdout",
          "output_type": "stream",
          "text": [
            "9\n",
            "10\n"
          ]
        }
      ],
      "source": [
        "print(sum(range(5),-1))\n",
        "from numpy import *\n",
        "print(sum(range(5),-1))"
      ]
    },
    {
      "cell_type": "markdown",
      "id": "89b7e7a7",
      "metadata": {
        "id": "89b7e7a7"
      },
      "source": [
        "#### 27. Consider an integer vector Z, which of these expressions are legal? (★☆☆)\n",
        "```python\n",
        "Z**Z\n",
        "2 << Z >> 2\n",
        "Z <- Z\n",
        "1j*Z\n",
        "Z/1/1\n",
        "Z<Z>Z\n",
        "```"
      ]
    },
    {
      "cell_type": "code",
      "execution_count": null,
      "id": "451181cf",
      "metadata": {
        "id": "451181cf",
        "outputId": "02b15d53-cd77-490b-cd89-089b3f56bf58"
      },
      "outputs": [
        {
          "name": "stdout",
          "output_type": "stream",
          "text": [
            "Z**Z: [   1    4   27  256 3125]\n",
            "2 << Z >> 2: [ 1  2  4  8 16]\n",
            "1j * Z: [0.+1.j 0.+2.j 0.+3.j 0.+4.j 0.+5.j]\n",
            "Z / 1 / 1: [1. 2. 3. 4. 5.]\n"
          ]
        }
      ],
      "source": [
        "import numpy as np\n",
        "Z = np.array([1, 2, 3, 4, 5])\n",
        "print(\"Z**Z:\", Z**Z)\n",
        "print(\"2 << Z >> 2:\", 2 << Z >> 2)\n",
        "print(\"1j * Z:\", 1j * Z)\n",
        "print(\"Z / 1 / 1:\", Z / 1 / 1)"
      ]
    },
    {
      "cell_type": "markdown",
      "id": "8c7601c6",
      "metadata": {
        "id": "8c7601c6"
      },
      "source": [
        "#### 28. What are the result of the following expressions? (★☆☆)\n",
        "```python\n",
        "np.array(0) / np.array(0)\n",
        "np.array(0) // np.array(0)\n",
        "np.array([np.nan]).astype(int).astype(float)\n",
        "```"
      ]
    },
    {
      "cell_type": "code",
      "execution_count": null,
      "id": "52983a0b",
      "metadata": {
        "id": "52983a0b",
        "outputId": "36e797f0-548f-40a6-c04a-87f0007b6ab7"
      },
      "outputs": [
        {
          "name": "stdout",
          "output_type": "stream",
          "text": [
            "nan\n",
            "0\n",
            "[-9.22337204e+18]\n"
          ]
        },
        {
          "name": "stderr",
          "output_type": "stream",
          "text": [
            "C:\\Users\\Mowleen\\AppData\\Local\\Temp\\ipykernel_8436\\220191003.py:3: RuntimeWarning: invalid value encountered in divide\n",
            "  print(np.array(0) / np.array(0))\n",
            "C:\\Users\\Mowleen\\AppData\\Local\\Temp\\ipykernel_8436\\220191003.py:4: RuntimeWarning: divide by zero encountered in floor_divide\n",
            "  print(np.array(0) // np.array(0))\n",
            "C:\\Users\\Mowleen\\AppData\\Local\\Temp\\ipykernel_8436\\220191003.py:5: RuntimeWarning: invalid value encountered in cast\n",
            "  print(np.array([np.nan]).astype(int).astype(float))\n"
          ]
        }
      ],
      "source": [
        "import numpy as np\n",
        "Z = np.array([1,2,3,4,5, 3.566, 4.786])\n",
        "print(np.array(0) / np.array(0))\n",
        "print(np.array(0) // np.array(0))\n",
        "print(np.array([np.nan]).astype(int).astype(float))"
      ]
    },
    {
      "cell_type": "markdown",
      "id": "06c9164d",
      "metadata": {
        "id": "06c9164d"
      },
      "source": [
        "#### 29. How to round away from zero a float array ? (★☆☆)"
      ]
    },
    {
      "cell_type": "code",
      "execution_count": null,
      "id": "4cce0af8",
      "metadata": {
        "id": "4cce0af8",
        "outputId": "b9f319ae-9801-4da3-fc21-4d5e45d80720"
      },
      "outputs": [
        {
          "name": "stdout",
          "output_type": "stream",
          "text": [
            "[-2.  2. -3.  3.]\n"
          ]
        }
      ],
      "source": [
        "import numpy as np\n",
        "\n",
        "arr = np.array([-1.5, 1.5, -2.7, 2.3])\n",
        "rounded_arr = np.sign(arr) * np.ceil(np.abs(arr))\n",
        "print(rounded_arr)"
      ]
    },
    {
      "cell_type": "markdown",
      "id": "52235994",
      "metadata": {
        "id": "52235994"
      },
      "source": [
        "#### 30. How to find common values between two arrays? (★☆☆)"
      ]
    },
    {
      "cell_type": "code",
      "execution_count": null,
      "id": "27eff6b1",
      "metadata": {
        "id": "27eff6b1",
        "outputId": "6e5ab8f1-7169-4d6b-f346-e6c7bea812ce"
      },
      "outputs": [
        {
          "name": "stdout",
          "output_type": "stream",
          "text": [
            "[4 5]\n"
          ]
        }
      ],
      "source": [
        "import numpy as np\n",
        "\n",
        "arr1 = np.array([1, 2, 3, 4, 5])\n",
        "arr2 = np.array([4, 5, 6, 7, 8])\n",
        "\n",
        "common_values = np.intersect1d(arr1, arr2)\n",
        "print(common_values)"
      ]
    },
    {
      "cell_type": "markdown",
      "id": "7e6f7d78",
      "metadata": {
        "id": "7e6f7d78"
      },
      "source": [
        "#### 31. How to ignore all numpy warnings (not recommended)? (★☆☆)"
      ]
    },
    {
      "cell_type": "code",
      "execution_count": null,
      "id": "1bdde6e1",
      "metadata": {
        "id": "1bdde6e1",
        "outputId": "bfbb7a43-6d97-4548-8b9b-86f0235f94a8"
      },
      "outputs": [
        {
          "name": "stdout",
          "output_type": "stream",
          "text": [
            "nan\n"
          ]
        }
      ],
      "source": [
        "import numpy as np\n",
        "np.seterr(all='ignore')\n",
        "print(np.array(0) / np.array(0))"
      ]
    },
    {
      "cell_type": "markdown",
      "id": "b001277e",
      "metadata": {
        "id": "b001277e"
      },
      "source": [
        "#### 32. Is the following expressions true? (★☆☆)\n",
        "```python\n",
        "np.sqrt(-1) == np.emath.sqrt(-1)\n",
        "```"
      ]
    },
    {
      "cell_type": "code",
      "execution_count": null,
      "id": "d8673bdf",
      "metadata": {
        "id": "d8673bdf",
        "outputId": "c4244578-c85d-434e-ec09-d773be9f7009"
      },
      "outputs": [
        {
          "data": {
            "text/plain": [
              "False"
            ]
          },
          "execution_count": 7,
          "metadata": {},
          "output_type": "execute_result"
        }
      ],
      "source": [
        "np.sqrt(-1) == np.emath.sqrt(-1)"
      ]
    },
    {
      "cell_type": "markdown",
      "id": "b9a5ff84",
      "metadata": {
        "id": "b9a5ff84"
      },
      "source": [
        "#### 33. How to get the dates of yesterday, today and tomorrow? (★☆☆)"
      ]
    },
    {
      "cell_type": "code",
      "execution_count": null,
      "id": "f33f9cc2",
      "metadata": {
        "id": "f33f9cc2",
        "outputId": "26961409-89ad-4fd2-ca51-5e209537f3a9"
      },
      "outputs": [
        {
          "name": "stdout",
          "output_type": "stream",
          "text": [
            "Yesterday: 2025-04-01\n",
            "Today: 2025-04-02\n",
            "Tomorrow: 2025-04-03\n"
          ]
        }
      ],
      "source": [
        "from datetime import datetime, timedelta\n",
        "\n",
        "today = datetime.today().date()\n",
        "yesterday = today - timedelta(days=1)\n",
        "tomorrow = today + timedelta(days=1)\n",
        "\n",
        "print(\"Yesterday:\", yesterday)\n",
        "print(\"Today:\", today)\n",
        "print(\"Tomorrow:\", tomorrow)"
      ]
    },
    {
      "cell_type": "markdown",
      "id": "f8e96e58",
      "metadata": {
        "id": "f8e96e58"
      },
      "source": [
        "#### 34. How to get all the dates corresponding to the month of July 2016? (★★☆)"
      ]
    },
    {
      "cell_type": "code",
      "execution_count": null,
      "id": "3927a8e8",
      "metadata": {
        "id": "3927a8e8",
        "outputId": "0df9bbd5-d4da-43f3-e0ba-27d63c5312b3"
      },
      "outputs": [
        {
          "name": "stdout",
          "output_type": "stream",
          "text": [
            "['2016-07-01' '2016-07-02' '2016-07-03' '2016-07-04' '2016-07-05'\n",
            " '2016-07-06' '2016-07-07' '2016-07-08' '2016-07-09' '2016-07-10'\n",
            " '2016-07-11' '2016-07-12' '2016-07-13' '2016-07-14' '2016-07-15'\n",
            " '2016-07-16' '2016-07-17' '2016-07-18' '2016-07-19' '2016-07-20'\n",
            " '2016-07-21' '2016-07-22' '2016-07-23' '2016-07-24' '2016-07-25'\n",
            " '2016-07-26' '2016-07-27' '2016-07-28' '2016-07-29' '2016-07-30'\n",
            " '2016-07-31']\n"
          ]
        }
      ],
      "source": [
        "import numpy as np\n",
        "\n",
        "start_date = np.datetime64('2016-07-01')\n",
        "end_date = np.datetime64('2016-07-31')\n",
        "\n",
        "dates = np.arange(start_date, end_date + np.timedelta64(1, 'D'), dtype='datetime64[D]')\n",
        "print(dates)"
      ]
    },
    {
      "cell_type": "markdown",
      "id": "557c163e",
      "metadata": {
        "id": "557c163e"
      },
      "source": [
        "#### 35. How to compute ((A+B)*(-A/2)) in place (without copy)? (★★☆)"
      ]
    },
    {
      "cell_type": "code",
      "execution_count": null,
      "id": "3c2f59ac",
      "metadata": {
        "id": "3c2f59ac",
        "outputId": "0905d579-5499-4f7e-9539-8d8a7c680bea"
      },
      "outputs": [
        {
          "name": "stdout",
          "output_type": "stream",
          "text": [
            "[-2.5 -3.5 -4.5]\n"
          ]
        }
      ],
      "source": [
        "import numpy as np\n",
        "\n",
        "A = np.array([1, 2, 3])\n",
        "B = np.array([4, 5, 6])\n",
        "\n",
        "A = A.astype(float)\n",
        "A += B\n",
        "A *= -0.5\n",
        "print(A)"
      ]
    },
    {
      "cell_type": "markdown",
      "id": "14c05852",
      "metadata": {
        "id": "14c05852"
      },
      "source": [
        "#### 36. Extract the integer part of a random array of positive numbers using 4 different methods (★★☆)"
      ]
    },
    {
      "cell_type": "code",
      "execution_count": null,
      "id": "8b7d2937",
      "metadata": {
        "id": "8b7d2937",
        "outputId": "f57324a5-09e0-4a6b-9f5c-3c09bbd2ba73"
      },
      "outputs": [
        {
          "name": "stdout",
          "output_type": "stream",
          "text": [
            "Original array: [9.26403928 1.82407393 8.61688389 1.74009735 9.44984514 4.06933985\n",
            " 9.35245568 8.46392869 7.64958052 9.2983938 ]\n",
            "Method 1 (np.floor): [9. 1. 8. 1. 9. 4. 9. 8. 7. 9.]\n",
            "Method 2 (np.trunc): [9. 1. 8. 1. 9. 4. 9. 8. 7. 9.]\n",
            "Method 3 (astype(int)): [9 1 8 1 9 4 9 8 7 9]\n",
            "Method 4 (// 1): [9. 1. 8. 1. 9. 4. 9. 8. 7. 9.]\n"
          ]
        }
      ],
      "source": [
        "import numpy as np\n",
        "\n",
        "arr = np.random.rand(10) * 10\n",
        "print(\"Original array:\", arr)\n",
        "\n",
        "method1 = np.floor(arr)\n",
        "\n",
        "method2 = np.trunc(arr)\n",
        "\n",
        "method3 = arr.astype(int)\n",
        "\n",
        "method4 = arr // 1\n",
        "\n",
        "print(\"Method 1 (np.floor):\", method1)\n",
        "print(\"Method 2 (np.trunc):\", method2)\n",
        "print(\"Method 3 (astype(int)):\", method3)\n",
        "print(\"Method 4 (// 1):\", method4)"
      ]
    },
    {
      "cell_type": "markdown",
      "id": "003b8721",
      "metadata": {
        "id": "003b8721"
      },
      "source": [
        "#### 37. Create a 5x5 matrix with row values ranging from 0 to 4 (★★☆)"
      ]
    },
    {
      "cell_type": "code",
      "execution_count": null,
      "id": "63c75db0",
      "metadata": {
        "id": "63c75db0",
        "outputId": "50cc0b0e-239d-47b7-929b-09f87dbfe754"
      },
      "outputs": [
        {
          "name": "stdout",
          "output_type": "stream",
          "text": [
            "[[0 1 2 3 4]\n",
            " [0 1 2 3 4]\n",
            " [0 1 2 3 4]\n",
            " [0 1 2 3 4]\n",
            " [0 1 2 3 4]]\n"
          ]
        }
      ],
      "source": [
        "import numpy as np\n",
        "matrix = np.tile(np.arange(5), (5, 1))\n",
        "print(matrix)"
      ]
    },
    {
      "cell_type": "markdown",
      "id": "8e71dc21",
      "metadata": {
        "id": "8e71dc21"
      },
      "source": [
        "#### 38. Consider a generator function that generates 10 integers and use it to build an array (★☆☆)"
      ]
    },
    {
      "cell_type": "code",
      "execution_count": null,
      "id": "f6aefd94",
      "metadata": {
        "id": "f6aefd94",
        "outputId": "9c472814-3696-4a0d-aa26-9214425cd571"
      },
      "outputs": [
        {
          "name": "stdout",
          "output_type": "stream",
          "text": [
            "[0 1 2 3 4 5 6 7 8 9]\n"
          ]
        }
      ],
      "source": [
        "import numpy as np\n",
        "def generate_integers(n):\n",
        "    for i in range(n):\n",
        "        yield i\n",
        "\n",
        "gen = generate_integers(10)\n",
        "arr = np.array(list(gen))\n",
        "print(arr)"
      ]
    },
    {
      "cell_type": "markdown",
      "id": "b7f03449",
      "metadata": {
        "id": "b7f03449"
      },
      "source": [
        "#### 39. Create a vector of size 10 with values ranging from 0 to 1, both excluded (★★☆)"
      ]
    },
    {
      "cell_type": "code",
      "execution_count": null,
      "id": "a27cd904",
      "metadata": {
        "id": "a27cd904",
        "outputId": "2abf604e-f0fd-4ced-83d3-68e1f0dfbc7a"
      },
      "outputs": [
        {
          "name": "stdout",
          "output_type": "stream",
          "text": [
            "[0.09090909 0.18181818 0.27272727 0.36363636 0.45454545 0.54545455\n",
            " 0.63636364 0.72727273 0.81818182 0.90909091]\n"
          ]
        }
      ],
      "source": [
        "import numpy as np\n",
        "arr = np.linspace(0, 1, 12)[1:-1]\n",
        "print(arr)"
      ]
    },
    {
      "cell_type": "markdown",
      "id": "043156c5",
      "metadata": {
        "id": "043156c5"
      },
      "source": [
        "#### 40. Create a random vector of size 10 and sort it (★★☆)"
      ]
    },
    {
      "cell_type": "code",
      "execution_count": null,
      "id": "6ae5eb58",
      "metadata": {
        "id": "6ae5eb58",
        "outputId": "20c91d8c-fa7b-419b-8217-f0bf008a9afe"
      },
      "outputs": [
        {
          "name": "stdout",
          "output_type": "stream",
          "text": [
            "Original vector: [0.64198157 0.68034877 0.56996582 0.2302694  0.11022089 0.6437277\n",
            " 0.73328718 0.7427826  0.38257538 0.72511069]\n",
            "Sorted vector: [0.11022089 0.2302694  0.38257538 0.56996582 0.64198157 0.6437277\n",
            " 0.68034877 0.72511069 0.73328718 0.7427826 ]\n"
          ]
        }
      ],
      "source": [
        "import numpy as np\n",
        "random_vector = np.random.rand(10)\n",
        "\n",
        "sorted_vector = np.sort(random_vector)\n",
        "\n",
        "print(\"Original vector:\", random_vector)\n",
        "print(\"Sorted vector:\", sorted_vector)"
      ]
    },
    {
      "cell_type": "markdown",
      "id": "4f7e8f3f",
      "metadata": {
        "id": "4f7e8f3f"
      },
      "source": [
        "#### 41. How to sum a small array faster than np.sum? (★★☆)"
      ]
    },
    {
      "cell_type": "code",
      "execution_count": null,
      "id": "88790af3",
      "metadata": {
        "id": "88790af3",
        "outputId": "7f92d320-6f08-4f9d-a9b2-3ca165757b1a"
      },
      "outputs": [
        {
          "name": "stdout",
          "output_type": "stream",
          "text": [
            "15\n"
          ]
        }
      ],
      "source": [
        "import numpy as np\n",
        "\n",
        "arr = np.array([1, 2, 3, 4, 5])\n",
        "result = sum(arr)\n",
        "print(result)"
      ]
    },
    {
      "cell_type": "markdown",
      "id": "13d1ca52",
      "metadata": {
        "id": "13d1ca52"
      },
      "source": [
        "#### 42. Consider two random array A and B, check if they are equal (★★☆)"
      ]
    },
    {
      "cell_type": "code",
      "execution_count": null,
      "id": "ca6dd579",
      "metadata": {
        "id": "ca6dd579",
        "outputId": "e5fdda1d-13a8-457c-ab7d-469f6316ca23"
      },
      "outputs": [
        {
          "name": "stdout",
          "output_type": "stream",
          "text": [
            "Arrays are equal: False\n"
          ]
        }
      ],
      "source": [
        "import numpy as np\n",
        "\n",
        "A = np.random.rand(5)\n",
        "B = np.random.rand(5)\n",
        "\n",
        "are_equal = np.array_equal(A, B)\n",
        "print(\"Arrays are equal:\", are_equal)"
      ]
    },
    {
      "cell_type": "markdown",
      "id": "cf7cca6d",
      "metadata": {
        "id": "cf7cca6d"
      },
      "source": [
        "#### 43. Make an array immutable (read-only) (★★☆)"
      ]
    },
    {
      "cell_type": "code",
      "execution_count": null,
      "id": "cbbb8917",
      "metadata": {
        "id": "cbbb8917",
        "outputId": "b660d99f-e335-45bf-c148-5cd72a30bb90"
      },
      "outputs": [
        {
          "name": "stdout",
          "output_type": "stream",
          "text": [
            "Error: assignment destination is read-only\n"
          ]
        }
      ],
      "source": [
        "import numpy as np\n",
        "\n",
        "arr = np.random.rand(5)\n",
        "\n",
        "arr.flags.writeable = False\n",
        "try:\n",
        "    arr[0] = 10\n",
        "except ValueError as e:\n",
        "    print(f\"Error: {e}\")"
      ]
    },
    {
      "cell_type": "markdown",
      "id": "37b0828f",
      "metadata": {
        "id": "37b0828f"
      },
      "source": [
        "#### 44. Consider a random 10x2 matrix representing cartesian coordinates, convert them to polar coordinates (★★☆)"
      ]
    },
    {
      "cell_type": "code",
      "execution_count": null,
      "id": "a89969af",
      "metadata": {
        "id": "a89969af",
        "outputId": "0fd50a58-362e-48b7-9784-57cafa743f42"
      },
      "outputs": [
        {
          "name": "stdout",
          "output_type": "stream",
          "text": [
            "Cartesian coordinates:\n",
            " [[9.02803202 5.43609759]\n",
            " [4.92335568 9.38252241]\n",
            " [9.7415989  4.21246951]\n",
            " [4.27370956 3.57428302]\n",
            " [0.63276425 8.02093808]\n",
            " [9.45634455 3.22975427]\n",
            " [5.60240203 5.79067731]\n",
            " [5.51492159 9.94913928]\n",
            " [7.54780314 3.71930819]\n",
            " [4.98178181 3.71376657]]\n",
            "Polar coordinates (r, theta):\n",
            " [[10.53833569  0.54198816]\n",
            " [10.59580851  1.0875556 ]\n",
            " [10.61337121  0.40813926]\n",
            " [ 5.57136361  0.69651129]\n",
            " [ 8.04585846  1.49207031]\n",
            " [ 9.99268557  0.32912153]\n",
            " [ 8.0572236   0.80192207]\n",
            " [11.37540032  1.06464903]\n",
            " [ 8.41442723  0.45784447]\n",
            " [ 6.21371162  0.6405953 ]]\n"
          ]
        }
      ],
      "source": [
        "import numpy as np\n",
        "cartesian_coords = np.random.rand(10, 2) * 10\n",
        "\n",
        "x = cartesian_coords[:, 0]\n",
        "y = cartesian_coords[:, 1]\n",
        "r = np.sqrt(x**2 + y**2)\n",
        "theta = np.arctan2(y, x)\n",
        "\n",
        "polar_coords = np.column_stack((r, theta))\n",
        "\n",
        "print(\"Cartesian coordinates:\\n\", cartesian_coords)\n",
        "print(\"Polar coordinates (r, theta):\\n\", polar_coords)"
      ]
    },
    {
      "cell_type": "markdown",
      "id": "b7d7dd80",
      "metadata": {
        "id": "b7d7dd80"
      },
      "source": [
        "#### 45. Create random vector of size 10 and replace the maximum value by 0 (★★☆)"
      ]
    },
    {
      "cell_type": "code",
      "execution_count": null,
      "id": "8403a440",
      "metadata": {
        "id": "8403a440",
        "outputId": "d912dbf4-9b07-41c5-fa31-58233b2bf468"
      },
      "outputs": [
        {
          "name": "stdout",
          "output_type": "stream",
          "text": [
            "Original vector: [0.62106509 0.66573339 0.80417758 0.         0.81600231 0.84639886\n",
            " 0.89367683 0.89354928 0.40358282 0.32965043]\n"
          ]
        }
      ],
      "source": [
        "import numpy as np\n",
        "\n",
        "vector = np.random.rand(10)\n",
        "\n",
        "vector[vector.argmax()] = 0\n",
        "\n",
        "print(\"Original vector:\", vector)"
      ]
    },
    {
      "cell_type": "markdown",
      "id": "b47e5837",
      "metadata": {
        "id": "b47e5837"
      },
      "source": [
        "#### 46. Create a structured array with `x` and `y` coordinates covering the [0,1]x[0,1] area (★★☆)"
      ]
    },
    {
      "cell_type": "code",
      "execution_count": 2,
      "id": "42c72e94",
      "metadata": {
        "colab": {
          "base_uri": "https://localhost:8080/"
        },
        "id": "42c72e94",
        "outputId": "7b78069a-b04b-44f9-db3e-271b2b479dad"
      },
      "outputs": [
        {
          "output_type": "execute_result",
          "data": {
            "text/plain": [
              "array([[(0.  , 0.  ), (0.25, 0.  ), (0.5 , 0.  ), (0.75, 0.  ),\n",
              "        (1.  , 0.  )],\n",
              "       [(0.  , 0.25), (0.25, 0.25), (0.5 , 0.25), (0.75, 0.25),\n",
              "        (1.  , 0.25)],\n",
              "       [(0.  , 0.5 ), (0.25, 0.5 ), (0.5 , 0.5 ), (0.75, 0.5 ),\n",
              "        (1.  , 0.5 )],\n",
              "       [(0.  , 0.75), (0.25, 0.75), (0.5 , 0.75), (0.75, 0.75),\n",
              "        (1.  , 0.75)],\n",
              "       [(0.  , 1.  ), (0.25, 1.  ), (0.5 , 1.  ), (0.75, 1.  ),\n",
              "        (1.  , 1.  )]], dtype=[('x', '<f8'), ('y', '<f8')])"
            ]
          },
          "metadata": {},
          "execution_count": 2
        }
      ],
      "source": [
        "import numpy as np\n",
        "Z = np.zeros((5,5), [('x',float),('y',float)])\n",
        "Z['x'], Z['y'] = np.meshgrid(np.linspace(0,1,5),\n",
        "                             np.linspace(0,1,5))\n",
        "Z\n"
      ]
    },
    {
      "cell_type": "markdown",
      "id": "8c7946ee",
      "metadata": {
        "id": "8c7946ee"
      },
      "source": [
        "#### 47. Given two arrays, X and Y, construct the Cauchy matrix C (Cij =1/(xi - yj)) (★★☆)"
      ]
    },
    {
      "cell_type": "markdown",
      "id": "3e898e5f",
      "metadata": {
        "id": "3e898e5f"
      },
      "source": [
        "#### 48. Print the minimum and maximum representable value for each numpy scalar type (★★☆)"
      ]
    },
    {
      "cell_type": "code",
      "execution_count": 3,
      "id": "26b93f06",
      "metadata": {
        "colab": {
          "base_uri": "https://localhost:8080/"
        },
        "id": "26b93f06",
        "outputId": "b074c0b4-5c23-4285-cb6f-3acd6dbfa906"
      },
      "outputs": [
        {
          "output_type": "stream",
          "name": "stdout",
          "text": [
            "3638.163637117973\n"
          ]
        }
      ],
      "source": [
        "import numpy as np\n",
        "X = np.arange(8)\n",
        "Y = X + 0.5\n",
        "C = 1.0 / np.subtract.outer(X, Y)\n",
        "print(np.linalg.det(C))\n"
      ]
    },
    {
      "cell_type": "code",
      "execution_count": 4,
      "id": "afd1ae18",
      "metadata": {
        "id": "afd1ae18"
      },
      "outputs": [],
      "source": [
        "import numpy as np"
      ]
    },
    {
      "cell_type": "markdown",
      "id": "6fe6133b",
      "metadata": {
        "id": "6fe6133b"
      },
      "source": [
        "#### 49. How to print all the values of an array? (★★☆)"
      ]
    },
    {
      "cell_type": "code",
      "execution_count": 5,
      "id": "5764ec92",
      "metadata": {
        "colab": {
          "base_uri": "https://localhost:8080/"
        },
        "id": "5764ec92",
        "outputId": "c0e47a73-0270-4414-a21b-b85e8b815dce"
      },
      "outputs": [
        {
          "output_type": "execute_result",
          "data": {
            "text/plain": [
              "array([1, 2, 3, 4, 5])"
            ]
          },
          "metadata": {},
          "execution_count": 5
        }
      ],
      "source": [
        "arr = np.array([1, 2, 3, 4, 5])  # Example array\n",
        "arr\n"
      ]
    },
    {
      "cell_type": "markdown",
      "id": "7ee2dacc",
      "metadata": {
        "id": "7ee2dacc"
      },
      "source": [
        "#### 50. How to find the closest value (to a given scalar) in a vector? (★★☆)"
      ]
    },
    {
      "cell_type": "code",
      "execution_count": 6,
      "id": "742518ef",
      "metadata": {
        "colab": {
          "base_uri": "https://localhost:8080/"
        },
        "id": "742518ef",
        "outputId": "017bf4f3-04fa-4208-e404-3d95f2e56ce4"
      },
      "outputs": [
        {
          "output_type": "execute_result",
          "data": {
            "text/plain": [
              "np.int64(5)"
            ]
          },
          "metadata": {},
          "execution_count": 6
        }
      ],
      "source": [
        "vector = np.array([1, 3, 5, 7, 9])\n",
        "scalar = 6\n",
        "\n",
        "closest_value = vector[np.argmin(np.abs(vector - scalar))]\n",
        "closest_value\n"
      ]
    },
    {
      "cell_type": "markdown",
      "id": "cfeda6ba",
      "metadata": {
        "id": "cfeda6ba"
      },
      "source": [
        "#### 51. Create a structured array representing a position (x,y) and a color (r,g,b) (★★☆)"
      ]
    },
    {
      "cell_type": "code",
      "execution_count": 7,
      "id": "9fcbd031",
      "metadata": {
        "colab": {
          "base_uri": "https://localhost:8080/"
        },
        "id": "9fcbd031",
        "outputId": "e56ed39a-2533-42cc-cc1c-10698f8fc208"
      },
      "outputs": [
        {
          "output_type": "execute_result",
          "data": {
            "text/plain": [
              "array([(0., [0, 0, 0]), (0., [0, 0, 0]), (0., [0, 0, 0]), (0., [0, 0, 0]),\n",
              "       (0., [0, 0, 0]), (0., [0, 0, 0]), (0., [0, 0, 0]), (0., [0, 0, 0]),\n",
              "       (0., [0, 0, 0]), (0., [0, 0, 0])],\n",
              "      dtype=[('position', '<f8'), ('color', 'u1', (3,))])"
            ]
          },
          "metadata": {},
          "execution_count": 7
        }
      ],
      "source": [
        "import numpy as np\n",
        "\n",
        "# Create a structured array with fields for position (x, y) and color (r, g, b)\n",
        "Z = np.zeros(10, dtype={'names': ('position', 'color'),\n",
        "                          'formats': (np.float64, (np.uint8, 3))})\n",
        "Z\n"
      ]
    },
    {
      "cell_type": "markdown",
      "id": "b97e75b5",
      "metadata": {
        "id": "b97e75b5"
      },
      "source": [
        "#### 52. Consider a random vector with shape (100,2) representing coordinates, find point by point distances (★★☆)"
      ]
    },
    {
      "cell_type": "code",
      "execution_count": 8,
      "id": "c58a45b6",
      "metadata": {
        "colab": {
          "base_uri": "https://localhost:8080/"
        },
        "id": "c58a45b6",
        "outputId": "fdbd8e58-3da7-472a-8540-a5dabaf5e867"
      },
      "outputs": [
        {
          "output_type": "execute_result",
          "data": {
            "text/plain": [
              "array([[0.        , 0.37374509, 0.29811211, ..., 0.65940657, 0.47200042,\n",
              "        0.30930752],\n",
              "       [0.37374509, 0.        , 0.31658341, ..., 0.63482038, 0.36362272,\n",
              "        0.08104638],\n",
              "       [0.29811211, 0.31658341, 0.        , ..., 0.37891718, 0.1776752 ,\n",
              "        0.31809771],\n",
              "       ...,\n",
              "       [0.65940657, 0.63482038, 0.37891718, ..., 0.        , 0.27215973,\n",
              "        0.66721846],\n",
              "       [0.47200042, 0.36362272, 0.1776752 , ..., 0.27215973, 0.        ,\n",
              "        0.40224098],\n",
              "       [0.30930752, 0.08104638, 0.31809771, ..., 0.66721846, 0.40224098,\n",
              "        0.        ]])"
            ]
          },
          "metadata": {},
          "execution_count": 8
        }
      ],
      "source": [
        "import numpy as np\n",
        "\n",
        "# Create a random vector with shape (100, 2) representing coordinates\n",
        "coords = np.random.rand(100, 2)\n",
        "\n",
        "# Calculate the squared differences between all pairs of points\n",
        "diffs = np.sum((coords[:, np.newaxis, :] - coords[np.newaxis, :, :]) ** 2, axis=2)\n",
        "\n",
        "# Take the square root to get the distances\n",
        "distances = np.sqrt(diffs)\n",
        "\n",
        "distances\n"
      ]
    },
    {
      "cell_type": "markdown",
      "id": "291e0bb9",
      "metadata": {
        "id": "291e0bb9"
      },
      "source": [
        "#### 53. How to convert a float (32 bits) array into an integer (32 bits) in place?"
      ]
    },
    {
      "cell_type": "code",
      "execution_count": 10,
      "id": "2f3e6c00",
      "metadata": {
        "colab": {
          "base_uri": "https://localhost:8080/"
        },
        "id": "2f3e6c00",
        "outputId": "fc9fa43c-d041-4fa5-b21e-84af7868228e"
      },
      "outputs": [
        {
          "output_type": "execute_result",
          "data": {
            "text/plain": [
              "array([1, 2, 3, 4], dtype=int32)"
            ]
          },
          "metadata": {},
          "execution_count": 10
        }
      ],
      "source": [
        "# Create a float32 array\n",
        "float_array = np.array([1.5, 2.7, 3.2, 4.9], dtype=np.float32)\n",
        "\n",
        "# Convert the float32 array to int32 in place\n",
        "int_array = float_array.astype(np.int32, copy=False)\n",
        "\n",
        "int_array\n"
      ]
    },
    {
      "cell_type": "markdown",
      "id": "1e305e92",
      "metadata": {
        "id": "1e305e92"
      },
      "source": [
        "#### 54. How to read the following file? (★★☆)\n",
        "```\n",
        "1, 2, 3, 4, 5\n",
        "6,  ,  , 7, 8\n",
        " ,  , 9,10,11\n",
        "```"
      ]
    },
    {
      "cell_type": "code",
      "execution_count": 9,
      "id": "753024cb",
      "metadata": {
        "colab": {
          "base_uri": "https://localhost:8080/"
        },
        "id": "753024cb",
        "outputId": "4fc263ce-1571-4cda-b4b2-2689887557d3"
      },
      "outputs": [
        {
          "output_type": "execute_result",
          "data": {
            "text/plain": [
              "array([[ 1,  2,  3,  4,  5],\n",
              "       [ 6, -1, -1,  7,  8],\n",
              "       [-1, -1,  9, 10, 11]])"
            ]
          },
          "metadata": {},
          "execution_count": 9
        }
      ],
      "source": [
        "from io import StringIO\n",
        "\n",
        "# Create a StringIO object to simulate the file\n",
        "file_content = \"\"\"1, 2, 3, 4, 5\n",
        "6,  ,  , 7, 8\n",
        " ,  , 9,10,11\"\"\"\n",
        "file_like_object = StringIO(file_content)\n",
        "\n",
        "# Read the file using numpy's genfromtxt function\n",
        "data = np.genfromtxt(file_like_object, delimiter=\",\", dtype=int)\n",
        "\n",
        "data"
      ]
    },
    {
      "cell_type": "markdown",
      "id": "94a8ad69",
      "metadata": {
        "id": "94a8ad69"
      },
      "source": [
        "#### 55. What is the equivalent of enumerate for numpy arrays? (★★☆)"
      ]
    },
    {
      "cell_type": "code",
      "execution_count": 11,
      "id": "ae45249f",
      "metadata": {
        "colab": {
          "base_uri": "https://localhost:8080/"
        },
        "id": "ae45249f",
        "outputId": "e0d599c9-585a-4689-ff05-6d3d9de01bb2"
      },
      "outputs": [
        {
          "output_type": "stream",
          "name": "stdout",
          "text": [
            "(0, 0) 0\n",
            "(0, 1) 1\n",
            "(0, 2) 2\n",
            "(1, 0) 3\n",
            "(1, 1) 4\n",
            "(1, 2) 5\n",
            "(2, 0) 6\n",
            "(2, 1) 7\n",
            "(2, 2) 8\n",
            "(0, 0) 0\n",
            "(0, 1) 1\n",
            "(0, 2) 2\n",
            "(1, 0) 3\n",
            "(1, 1) 4\n",
            "(1, 2) 5\n",
            "(2, 0) 6\n",
            "(2, 1) 7\n",
            "(2, 2) 8\n"
          ]
        }
      ],
      "source": [
        "# Using np.ndenumerate():\n",
        "Z = np.arange(9).reshape(3,3)\n",
        "for index, value in np.ndenumerate(Z):\n",
        "    print(index, value)\n",
        "\n",
        "# Using np.ndindex():\n",
        "Z = np.arange(9).reshape(3,3)\n",
        "for index in np.ndindex(Z.shape):\n",
        "    print(index, Z[index])\n"
      ]
    },
    {
      "cell_type": "markdown",
      "id": "72b340c9",
      "metadata": {
        "id": "72b340c9"
      },
      "source": [
        "#### 56. Generate a generic 2D Gaussian-like array (★★☆)"
      ]
    },
    {
      "cell_type": "code",
      "execution_count": 12,
      "id": "a80e5c9b",
      "metadata": {
        "colab": {
          "base_uri": "https://localhost:8080/"
        },
        "id": "a80e5c9b",
        "outputId": "f107aa7d-ba63-4e6a-aec4-62d172514150"
      },
      "outputs": [
        {
          "output_type": "execute_result",
          "data": {
            "text/plain": [
              "array([[0.36787944, 0.44822088, 0.51979489, 0.57375342, 0.60279818,\n",
              "        0.60279818, 0.57375342, 0.51979489, 0.44822088, 0.36787944],\n",
              "       [0.44822088, 0.54610814, 0.63331324, 0.69905581, 0.73444367,\n",
              "        0.73444367, 0.69905581, 0.63331324, 0.54610814, 0.44822088],\n",
              "       [0.51979489, 0.63331324, 0.73444367, 0.81068432, 0.85172308,\n",
              "        0.85172308, 0.81068432, 0.73444367, 0.63331324, 0.51979489],\n",
              "       [0.57375342, 0.69905581, 0.81068432, 0.89483932, 0.9401382 ,\n",
              "        0.9401382 , 0.89483932, 0.81068432, 0.69905581, 0.57375342],\n",
              "       [0.60279818, 0.73444367, 0.85172308, 0.9401382 , 0.98773022,\n",
              "        0.98773022, 0.9401382 , 0.85172308, 0.73444367, 0.60279818],\n",
              "       [0.60279818, 0.73444367, 0.85172308, 0.9401382 , 0.98773022,\n",
              "        0.98773022, 0.9401382 , 0.85172308, 0.73444367, 0.60279818],\n",
              "       [0.57375342, 0.69905581, 0.81068432, 0.89483932, 0.9401382 ,\n",
              "        0.9401382 , 0.89483932, 0.81068432, 0.69905581, 0.57375342],\n",
              "       [0.51979489, 0.63331324, 0.73444367, 0.81068432, 0.85172308,\n",
              "        0.85172308, 0.81068432, 0.73444367, 0.63331324, 0.51979489],\n",
              "       [0.44822088, 0.54610814, 0.63331324, 0.69905581, 0.73444367,\n",
              "        0.73444367, 0.69905581, 0.63331324, 0.54610814, 0.44822088],\n",
              "       [0.36787944, 0.44822088, 0.51979489, 0.57375342, 0.60279818,\n",
              "        0.60279818, 0.57375342, 0.51979489, 0.44822088, 0.36787944]])"
            ]
          },
          "metadata": {},
          "execution_count": 12
        }
      ],
      "source": [
        "x, y = np.meshgrid(np.linspace(-1, 1, 10), np.linspace(-1, 1, 10))\n",
        "d = np.sqrt(x * x + y * y)\n",
        "sigma, mu = 1.0, 0.0\n",
        "gauss = np.exp(-((d - mu) ** 2 / (2.0 * sigma ** 2)))\n",
        "gauss\n"
      ]
    },
    {
      "cell_type": "markdown",
      "id": "86550d61",
      "metadata": {
        "id": "86550d61"
      },
      "source": [
        "#### 57. How to randomly place p elements in a 2D array? (★★☆)"
      ]
    },
    {
      "cell_type": "code",
      "execution_count": 14,
      "id": "db9f2582",
      "metadata": {
        "id": "db9f2582"
      },
      "outputs": [],
      "source": [
        "import numpy as np\n",
        "\n",
        "def randomly_place_elements(shape, p):\n",
        "    \"\"\"Randomly places p elements in a 2D array of the given shape.\n",
        "\n",
        "    Args:\n",
        "        shape: A tuple (rows, cols) specifying the dimensions of the array.\n",
        "        p: The number of elements to place.\n",
        "\n",
        "    Returns:\n",
        "        A 2D NumPy array with p elements randomly placed, or None if p is invalid.\n",
        "    \"\"\"\n",
        "\n",
        "    rows, cols = shape\n",
        "    if p < 0 or p > rows * cols:\n",
        "        print(\"Error: Invalid number of elements to place.\")\n",
        "        return None\n",
        "\n",
        "    array = np.zeros(shape, dtype=int)  # Initialize with zeros\n",
        "    indices = np.random.choice(rows * cols, size=p, replace=False)  # Random indices without replacement\n",
        "    row_indices, col_indices = np.unravel_index(indices, shape)  # Convert linear indices to row, col indices\n",
        "    array[row_indices, col_indices] = 1  # Place elements (value=1 in this example)\n",
        "\n",
        "    return array\n",
        "\n",
        "# Example usage:\n",
        "shape = (5, 5)\n",
        "p = 7\n",
        "result_array = randomly_place_elements(shape, p)\n",
        "\n",
        "if result_array is not None:\n",
        "  result_array\n"
      ]
    },
    {
      "cell_type": "markdown",
      "id": "153f8cfa",
      "metadata": {
        "id": "153f8cfa"
      },
      "source": [
        "#### 58. Subtract the mean of each row of a matrix (★★☆)"
      ]
    },
    {
      "cell_type": "code",
      "execution_count": 15,
      "id": "8301cb12",
      "metadata": {
        "colab": {
          "base_uri": "https://localhost:8080/"
        },
        "id": "8301cb12",
        "outputId": "240ebd1d-2815-423f-b453-4f68a67b58cb"
      },
      "outputs": [
        {
          "output_type": "stream",
          "name": "stdout",
          "text": [
            "Original matrix:\n",
            "[[0.97390284 0.64241014 0.31555076 0.99437215]\n",
            " [0.38159086 0.91025632 0.18295148 0.87263088]\n",
            " [0.01568216 0.32373144 0.80567687 0.56706634]]\n",
            "\n",
            "Row means:\n",
            "[[0.73155897]\n",
            " [0.58685738]\n",
            " [0.4280392 ]]\n",
            "\n",
            "Matrix with row means subtracted:\n"
          ]
        },
        {
          "output_type": "execute_result",
          "data": {
            "text/plain": [
              "array([[ 0.24234387, -0.08914883, -0.41600821,  0.26281318],\n",
              "       [-0.20526652,  0.32339893, -0.40390591,  0.2857735 ],\n",
              "       [-0.41235704, -0.10430776,  0.37763767,  0.13902714]])"
            ]
          },
          "metadata": {},
          "execution_count": 15
        }
      ],
      "source": [
        "matrix = np.random.rand(3, 4)  # Example 3x4 matrix\n",
        "print(\"Original matrix:\")\n",
        "print(matrix)\n",
        "\n",
        "row_means = np.mean(matrix, axis=1, keepdims=True)\n",
        "print(\"\\nRow means:\")\n",
        "print(row_means)\n",
        "\n",
        "\n",
        "result_matrix = matrix - row_means\n",
        "print(\"\\nMatrix with row means subtracted:\")\n",
        "result_matrix\n"
      ]
    },
    {
      "cell_type": "markdown",
      "id": "f4038090",
      "metadata": {
        "id": "f4038090"
      },
      "source": [
        "#### 59. How to sort an array by the nth column? (★★☆)"
      ]
    },
    {
      "cell_type": "code",
      "execution_count": 16,
      "id": "eb5745df",
      "metadata": {
        "colab": {
          "base_uri": "https://localhost:8080/"
        },
        "id": "eb5745df",
        "outputId": "6113de64-d49d-44d8-9298-f2310259a148"
      },
      "outputs": [
        {
          "output_type": "stream",
          "name": "stdout",
          "text": [
            "Original array:\n",
            " [[1 5 2]\n",
            " [3 1 4]\n",
            " [2 3 1]]\n",
            "\n",
            "Sorted array by the 1 th column:\n",
            " [[3 1 4]\n",
            " [2 3 1]\n",
            " [1 5 2]]\n"
          ]
        }
      ],
      "source": [
        "import numpy as np\n",
        "\n",
        "# Example array\n",
        "array = np.array([[1, 5, 2],\n",
        "                  [3, 1, 4],\n",
        "                  [2, 3, 1]])\n",
        "\n",
        "# Specify the column to sort by (e.g., the second column, index 1)\n",
        "n = 1\n",
        "\n",
        "# Sort the array by the nth column\n",
        "sorted_array = array[array[:, n].argsort()]\n",
        "\n",
        "print(\"Original array:\\n\", array)\n",
        "print(\"\\nSorted array by the\", n, \"th column:\\n\", sorted_array)\n"
      ]
    },
    {
      "cell_type": "markdown",
      "id": "20d2a462",
      "metadata": {
        "id": "20d2a462"
      },
      "source": [
        "#### 60. How to tell if a given 2D array has null columns? (★★☆)"
      ]
    },
    {
      "cell_type": "code",
      "execution_count": 17,
      "id": "b92b7316",
      "metadata": {
        "colab": {
          "base_uri": "https://localhost:8080/"
        },
        "id": "b92b7316",
        "outputId": "89629221-a554-4fa4-993d-369d6d84158a"
      },
      "outputs": [
        {
          "output_type": "stream",
          "name": "stdout",
          "text": [
            "Array with null columns: True\n",
            "Array without null columns: False\n"
          ]
        }
      ],
      "source": [
        "def has_null_columns(array_2d):\n",
        "    \"\"\"\n",
        "    Checks if a given 2D NumPy array has any columns containing only null values (NaN).\n",
        "\n",
        "    Args:\n",
        "    array_2d: The 2D NumPy array to check.\n",
        "\n",
        "    Returns:\n",
        "    True if any columns are null, False otherwise.\n",
        "    \"\"\"\n",
        "\n",
        "    # Check if the input is a 2D NumPy array\n",
        "    if not isinstance(array_2d, np.ndarray) or array_2d.ndim != 2:\n",
        "        raise ValueError(\"Input must be a 2D NumPy array.\")\n",
        "\n",
        "    # Check for null columns (all NaN)\n",
        "    null_columns = np.all(np.isnan(array_2d), axis=0)  # Check along each column\n",
        "\n",
        "    return np.any(null_columns)  # Check if at least one column is all NaN\n",
        "\n",
        "# Example usage\n",
        "array_with_null = np.array([[1, 2, np.nan],\n",
        "                         [4, np.nan, np.nan],\n",
        "                         [7, 8, np.nan]])\n",
        "\n",
        "array_without_null = np.array([[1, 2, 3],\n",
        "                            [4, 5, 6],\n",
        "                            [7, 8, 9]])\n",
        "\n",
        "print(\"Array with null columns:\", has_null_columns(array_with_null)) # True\n",
        "print(\"Array without null columns:\", has_null_columns(array_without_null)) # False\n"
      ]
    },
    {
      "cell_type": "markdown",
      "id": "bb2aa49b",
      "metadata": {
        "id": "bb2aa49b"
      },
      "source": [
        "#### 61. Find the nearest value from a given value in an array (★★☆)"
      ]
    },
    {
      "cell_type": "code",
      "execution_count": null,
      "id": "8b62e59c",
      "metadata": {
        "id": "8b62e59c"
      },
      "outputs": [],
      "source": []
    },
    {
      "cell_type": "markdown",
      "id": "1a950e1a",
      "metadata": {
        "id": "1a950e1a"
      },
      "source": [
        "#### 62. Considering two arrays with shape (1,3) and (3,1), how to compute their sum using an iterator? (★★☆)"
      ]
    },
    {
      "cell_type": "code",
      "execution_count": null,
      "id": "cad1d01b",
      "metadata": {
        "id": "cad1d01b"
      },
      "outputs": [],
      "source": []
    },
    {
      "cell_type": "markdown",
      "id": "165b3a20",
      "metadata": {
        "id": "165b3a20"
      },
      "source": [
        "#### 63. Create an array class that has a name attribute (★★☆)"
      ]
    },
    {
      "cell_type": "code",
      "execution_count": null,
      "id": "666bf983",
      "metadata": {
        "id": "666bf983"
      },
      "outputs": [],
      "source": []
    },
    {
      "cell_type": "markdown",
      "id": "87f85b12",
      "metadata": {
        "id": "87f85b12"
      },
      "source": [
        "#### 64. Consider a given vector, how to add 1 to each element indexed by a second vector (be careful with repeated indices)? (★★★)"
      ]
    },
    {
      "cell_type": "code",
      "execution_count": null,
      "id": "03ee4c88",
      "metadata": {
        "id": "03ee4c88"
      },
      "outputs": [],
      "source": []
    },
    {
      "cell_type": "markdown",
      "id": "1cda27c4",
      "metadata": {
        "id": "1cda27c4"
      },
      "source": [
        "#### 65. How to accumulate elements of a vector (X) to an array (F) based on an index list (I)? (★★★)"
      ]
    },
    {
      "cell_type": "code",
      "execution_count": null,
      "id": "aee2c782",
      "metadata": {
        "id": "aee2c782"
      },
      "outputs": [],
      "source": []
    },
    {
      "cell_type": "markdown",
      "id": "1db205db",
      "metadata": {
        "id": "1db205db"
      },
      "source": [
        "#### 66. Considering a (w,h,3) image of (dtype=ubyte), compute the number of unique colors (★★☆)"
      ]
    },
    {
      "cell_type": "code",
      "execution_count": null,
      "id": "43204f35",
      "metadata": {
        "id": "43204f35"
      },
      "outputs": [],
      "source": []
    },
    {
      "cell_type": "markdown",
      "id": "ebaf1222",
      "metadata": {
        "id": "ebaf1222"
      },
      "source": [
        "#### 67. Considering a four dimensions array, how to get sum over the last two axis at once? (★★★)"
      ]
    },
    {
      "cell_type": "code",
      "execution_count": null,
      "id": "aabbbab9",
      "metadata": {
        "id": "aabbbab9"
      },
      "outputs": [],
      "source": []
    },
    {
      "cell_type": "markdown",
      "id": "2dfb4033",
      "metadata": {
        "id": "2dfb4033"
      },
      "source": [
        "#### 68. Considering a one-dimensional vector D, how to compute means of subsets of D using a vector S of same size describing subset  indices? (★★★)"
      ]
    },
    {
      "cell_type": "code",
      "execution_count": null,
      "id": "7a9c2287",
      "metadata": {
        "id": "7a9c2287"
      },
      "outputs": [],
      "source": []
    },
    {
      "cell_type": "markdown",
      "id": "7035c626",
      "metadata": {
        "id": "7035c626"
      },
      "source": [
        "#### 69. How to get the diagonal of a dot product? (★★★)"
      ]
    },
    {
      "cell_type": "code",
      "execution_count": null,
      "id": "f6af16c1",
      "metadata": {
        "id": "f6af16c1"
      },
      "outputs": [],
      "source": []
    },
    {
      "cell_type": "markdown",
      "id": "8f73f0e5",
      "metadata": {
        "id": "8f73f0e5"
      },
      "source": [
        "#### 70. Consider the vector [1, 2, 3, 4, 5], how to build a new vector with 3 consecutive zeros interleaved between each value? (★★★)"
      ]
    },
    {
      "cell_type": "code",
      "execution_count": null,
      "id": "b0cabc11",
      "metadata": {
        "id": "b0cabc11"
      },
      "outputs": [],
      "source": []
    },
    {
      "cell_type": "markdown",
      "id": "bafaa79e",
      "metadata": {
        "id": "bafaa79e"
      },
      "source": [
        "#### 71. Consider an array of dimension (5,5,3), how to mulitply it by an array with dimensions (5,5)? (★★★)"
      ]
    },
    {
      "cell_type": "code",
      "execution_count": null,
      "id": "d441e30b",
      "metadata": {
        "id": "d441e30b"
      },
      "outputs": [],
      "source": []
    },
    {
      "cell_type": "markdown",
      "id": "80a9ac82",
      "metadata": {
        "id": "80a9ac82"
      },
      "source": [
        "#### 72. How to swap two rows of an array? (★★★)"
      ]
    },
    {
      "cell_type": "code",
      "execution_count": null,
      "id": "1aee2791",
      "metadata": {
        "id": "1aee2791"
      },
      "outputs": [],
      "source": []
    },
    {
      "cell_type": "markdown",
      "id": "5e53d68c",
      "metadata": {
        "id": "5e53d68c"
      },
      "source": [
        "#### 73. Consider a set of 10 triplets describing 10 triangles (with shared vertices), find the set of unique line segments composing all the  triangles (★★★)"
      ]
    },
    {
      "cell_type": "code",
      "execution_count": null,
      "id": "2f975322",
      "metadata": {
        "id": "2f975322"
      },
      "outputs": [],
      "source": []
    },
    {
      "cell_type": "markdown",
      "id": "f85da603",
      "metadata": {
        "id": "f85da603"
      },
      "source": [
        "#### 74. Given a sorted array C that corresponds to a bincount, how to produce an array A such that np.bincount(A) == C? (★★★)"
      ]
    },
    {
      "cell_type": "code",
      "execution_count": null,
      "id": "8c476a73",
      "metadata": {
        "id": "8c476a73"
      },
      "outputs": [],
      "source": []
    },
    {
      "cell_type": "markdown",
      "id": "a2330e6c",
      "metadata": {
        "id": "a2330e6c"
      },
      "source": [
        "#### 75. How to compute averages using a sliding window over an array? (★★★)"
      ]
    },
    {
      "cell_type": "code",
      "execution_count": null,
      "id": "35e5e9f5",
      "metadata": {
        "id": "35e5e9f5"
      },
      "outputs": [],
      "source": []
    },
    {
      "cell_type": "markdown",
      "id": "87698de8",
      "metadata": {
        "id": "87698de8"
      },
      "source": [
        "#### 76. Consider a one-dimensional array Z, build a two-dimensional array whose first row is (Z[0],Z[1],Z[2]) and each subsequent row is  shifted by 1 (last row should be (Z[-3],Z[-2],Z[-1]) (★★★)"
      ]
    },
    {
      "cell_type": "code",
      "execution_count": null,
      "id": "753763ed",
      "metadata": {
        "id": "753763ed"
      },
      "outputs": [],
      "source": []
    },
    {
      "cell_type": "markdown",
      "id": "b8417b15",
      "metadata": {
        "id": "b8417b15"
      },
      "source": [
        "#### 77. How to negate a boolean, or to change the sign of a float inplace? (★★★)"
      ]
    },
    {
      "cell_type": "code",
      "execution_count": null,
      "id": "3cad31b2",
      "metadata": {
        "id": "3cad31b2"
      },
      "outputs": [],
      "source": []
    },
    {
      "cell_type": "markdown",
      "id": "37a49831",
      "metadata": {
        "id": "37a49831"
      },
      "source": [
        "#### 78. Consider 2 sets of points P0,P1 describing lines (2d) and a point p, how to compute distance from p to each line i (P0[i],P1[i])? (★★★)"
      ]
    },
    {
      "cell_type": "code",
      "execution_count": null,
      "id": "df95dce8",
      "metadata": {
        "id": "df95dce8"
      },
      "outputs": [],
      "source": []
    },
    {
      "cell_type": "markdown",
      "id": "f5ae032f",
      "metadata": {
        "id": "f5ae032f"
      },
      "source": [
        "#### 79. Consider 2 sets of points P0,P1 describing lines (2d) and a set of points P, how to compute distance from each point j (P[j]) to each line i (P0[i],P1[i])? (★★★)"
      ]
    },
    {
      "cell_type": "code",
      "execution_count": null,
      "id": "f5ae2e9b",
      "metadata": {
        "id": "f5ae2e9b"
      },
      "outputs": [],
      "source": []
    },
    {
      "cell_type": "markdown",
      "id": "6bc35ba2",
      "metadata": {
        "id": "6bc35ba2"
      },
      "source": [
        "#### 80. Consider an arbitrary array, write a function that extract a subpart with a fixed shape and centered on a given element (pad with a `fill` value when necessary) (★★★)"
      ]
    },
    {
      "cell_type": "code",
      "execution_count": null,
      "id": "2ad8db75",
      "metadata": {
        "id": "2ad8db75"
      },
      "outputs": [],
      "source": []
    },
    {
      "cell_type": "markdown",
      "id": "d17818f7",
      "metadata": {
        "id": "d17818f7"
      },
      "source": [
        "#### 81. Consider an array Z = [1,2,3,4,5,6,7,8,9,10,11,12,13,14], how to generate an array R = [[1,2,3,4], [2,3,4,5], [3,4,5,6], ..., [11,12,13,14]]? (★★★)"
      ]
    },
    {
      "cell_type": "code",
      "execution_count": null,
      "id": "97deb72f",
      "metadata": {
        "id": "97deb72f"
      },
      "outputs": [],
      "source": []
    },
    {
      "cell_type": "markdown",
      "id": "67f526e6",
      "metadata": {
        "id": "67f526e6"
      },
      "source": [
        "#### 82. Compute a matrix rank (★★★)"
      ]
    },
    {
      "cell_type": "code",
      "execution_count": null,
      "id": "d70bed5b",
      "metadata": {
        "id": "d70bed5b"
      },
      "outputs": [],
      "source": []
    },
    {
      "cell_type": "markdown",
      "id": "0a3fb55f",
      "metadata": {
        "id": "0a3fb55f"
      },
      "source": [
        "#### 83. How to find the most frequent value in an array?"
      ]
    },
    {
      "cell_type": "code",
      "execution_count": null,
      "id": "b0647d07",
      "metadata": {
        "id": "b0647d07"
      },
      "outputs": [],
      "source": []
    },
    {
      "cell_type": "markdown",
      "id": "cb0ac341",
      "metadata": {
        "id": "cb0ac341"
      },
      "source": [
        "#### 84. Extract all the contiguous 3x3 blocks from a random 10x10 matrix (★★★)"
      ]
    },
    {
      "cell_type": "code",
      "execution_count": null,
      "id": "91798923",
      "metadata": {
        "id": "91798923"
      },
      "outputs": [],
      "source": []
    },
    {
      "cell_type": "markdown",
      "id": "c2a9da0d",
      "metadata": {
        "id": "c2a9da0d"
      },
      "source": [
        "#### 85. Create a 2D array subclass such that Z[i,j] == Z[j,i] (★★★)"
      ]
    },
    {
      "cell_type": "code",
      "execution_count": null,
      "id": "f9b027ff",
      "metadata": {
        "id": "f9b027ff"
      },
      "outputs": [],
      "source": []
    },
    {
      "cell_type": "markdown",
      "id": "718ac868",
      "metadata": {
        "id": "718ac868"
      },
      "source": [
        "#### 86. Consider a set of p matrices with shape (n,n) and a set of p vectors with shape (n,1). How to compute the sum of of the p matrix products at once? (result has shape (n,1)) (★★★)"
      ]
    },
    {
      "cell_type": "code",
      "execution_count": null,
      "id": "4de05217",
      "metadata": {
        "id": "4de05217"
      },
      "outputs": [],
      "source": []
    },
    {
      "cell_type": "markdown",
      "id": "a6eda6f8",
      "metadata": {
        "id": "a6eda6f8"
      },
      "source": [
        "#### 87. Consider a 16x16 array, how to get the block-sum (block size is 4x4)? (★★★)"
      ]
    },
    {
      "cell_type": "code",
      "execution_count": null,
      "id": "286b8db5",
      "metadata": {
        "id": "286b8db5"
      },
      "outputs": [],
      "source": []
    },
    {
      "cell_type": "markdown",
      "id": "625aa611",
      "metadata": {
        "id": "625aa611"
      },
      "source": [
        "#### 88. How to implement the Game of Life using numpy arrays? (★★★)"
      ]
    },
    {
      "cell_type": "code",
      "execution_count": null,
      "id": "a01c1ff2",
      "metadata": {
        "id": "a01c1ff2"
      },
      "outputs": [],
      "source": []
    },
    {
      "cell_type": "markdown",
      "id": "ca3dde4a",
      "metadata": {
        "id": "ca3dde4a"
      },
      "source": [
        "#### 89. How to get the n largest values of an array (★★★)"
      ]
    },
    {
      "cell_type": "code",
      "execution_count": null,
      "id": "5d14148c",
      "metadata": {
        "id": "5d14148c"
      },
      "outputs": [],
      "source": []
    },
    {
      "cell_type": "markdown",
      "id": "e233805e",
      "metadata": {
        "id": "e233805e"
      },
      "source": [
        "#### 90. Given an arbitrary number of vectors, build the cartesian product (every combinations of every item) (★★★)"
      ]
    },
    {
      "cell_type": "code",
      "execution_count": null,
      "id": "17638e13",
      "metadata": {
        "id": "17638e13"
      },
      "outputs": [],
      "source": []
    },
    {
      "cell_type": "markdown",
      "id": "c163f115",
      "metadata": {
        "id": "c163f115"
      },
      "source": [
        "#### 91. How to create a record array from a regular array? (★★★)"
      ]
    },
    {
      "cell_type": "code",
      "execution_count": null,
      "id": "da402514",
      "metadata": {
        "id": "da402514"
      },
      "outputs": [],
      "source": []
    },
    {
      "cell_type": "markdown",
      "id": "049c006e",
      "metadata": {
        "id": "049c006e"
      },
      "source": [
        "#### 92. Consider a large vector Z, compute Z to the power of 3 using 3 different methods (★★★)"
      ]
    },
    {
      "cell_type": "code",
      "execution_count": null,
      "id": "96ce278a",
      "metadata": {
        "id": "96ce278a"
      },
      "outputs": [],
      "source": []
    },
    {
      "cell_type": "markdown",
      "id": "6e652635",
      "metadata": {
        "id": "6e652635"
      },
      "source": [
        "#### 93. Consider two arrays A and B of shape (8,3) and (2,2). How to find rows of A that contain elements of each row of B regardless of the order of the elements in B? (★★★)"
      ]
    },
    {
      "cell_type": "code",
      "execution_count": null,
      "id": "f429d6d4",
      "metadata": {
        "id": "f429d6d4"
      },
      "outputs": [],
      "source": []
    },
    {
      "cell_type": "markdown",
      "id": "33c4755d",
      "metadata": {
        "id": "33c4755d"
      },
      "source": [
        "#### 94. Considering a 10x3 matrix, extract rows with unequal values (e.g. [2,2,3]) (★★★)"
      ]
    },
    {
      "cell_type": "code",
      "execution_count": null,
      "id": "29507586",
      "metadata": {
        "id": "29507586"
      },
      "outputs": [],
      "source": []
    },
    {
      "cell_type": "markdown",
      "id": "c9fe158d",
      "metadata": {
        "id": "c9fe158d"
      },
      "source": [
        "#### 95. Convert a vector of ints into a matrix binary representation (★★★)"
      ]
    },
    {
      "cell_type": "code",
      "execution_count": null,
      "id": "58209fb7",
      "metadata": {
        "id": "58209fb7"
      },
      "outputs": [],
      "source": []
    },
    {
      "cell_type": "markdown",
      "id": "f60086c9",
      "metadata": {
        "id": "f60086c9"
      },
      "source": [
        "#### 96. Given a two dimensional array, how to extract unique rows? (★★★)"
      ]
    },
    {
      "cell_type": "code",
      "execution_count": null,
      "id": "787b6e4c",
      "metadata": {
        "id": "787b6e4c"
      },
      "outputs": [],
      "source": []
    },
    {
      "cell_type": "markdown",
      "id": "0f5e1299",
      "metadata": {
        "id": "0f5e1299"
      },
      "source": [
        "#### 97. Considering 2 vectors A & B, write the einsum equivalent of inner, outer, sum, and mul function (★★★)"
      ]
    },
    {
      "cell_type": "code",
      "execution_count": null,
      "id": "cd2a8214",
      "metadata": {
        "id": "cd2a8214"
      },
      "outputs": [],
      "source": []
    },
    {
      "cell_type": "markdown",
      "id": "a04dd898",
      "metadata": {
        "id": "a04dd898"
      },
      "source": [
        "#### 98. Considering a path described by two vectors (X,Y), how to sample it using equidistant samples (★★★)?"
      ]
    },
    {
      "cell_type": "code",
      "execution_count": null,
      "id": "12d9c30f",
      "metadata": {
        "id": "12d9c30f"
      },
      "outputs": [],
      "source": []
    },
    {
      "cell_type": "markdown",
      "id": "b45bf2ae",
      "metadata": {
        "id": "b45bf2ae"
      },
      "source": [
        "#### 99. Given an integer n and a 2D array X, select from X the rows which can be interpreted as draws from a multinomial distribution with n degrees, i.e., the rows which only contain integers and which sum to n. (★★★)"
      ]
    },
    {
      "cell_type": "code",
      "execution_count": null,
      "id": "f4179f4a",
      "metadata": {
        "id": "f4179f4a"
      },
      "outputs": [],
      "source": []
    },
    {
      "cell_type": "markdown",
      "id": "d92b6592",
      "metadata": {
        "id": "d92b6592"
      },
      "source": [
        "#### 100. Compute bootstrapped 95% confidence intervals for the mean of a 1D array X (i.e., resample the elements of an array with replacement N times, compute the mean of each sample, and then compute percentiles over the means). (★★★)"
      ]
    },
    {
      "cell_type": "code",
      "execution_count": null,
      "id": "256ebe30",
      "metadata": {
        "id": "256ebe30"
      },
      "outputs": [],
      "source": []
    }
  ],
  "metadata": {
    "kernelspec": {
      "display_name": "Python 3 (ipykernel)",
      "language": "python",
      "name": "python3"
    },
    "language_info": {
      "codemirror_mode": {
        "name": "ipython",
        "version": 3
      },
      "file_extension": ".py",
      "mimetype": "text/x-python",
      "name": "python",
      "nbconvert_exporter": "python",
      "pygments_lexer": "ipython3",
      "version": "3.13.0"
    },
    "colab": {
      "provenance": []
    }
  },
  "nbformat": 4,
  "nbformat_minor": 5
}